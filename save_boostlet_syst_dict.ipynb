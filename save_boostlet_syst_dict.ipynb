{
 "cells": [
  {
   "cell_type": "code",
   "execution_count": 1,
   "metadata": {},
   "outputs": [],
   "source": [
    "%load_ext autoreload\n",
    "%autoreload 2\n",
    "import numpy as np\n",
    "import matplotlib.pyplot as plt\n",
    "from mod_plotting_utilities import plot_array_images\n",
    "from boostlets_mod import meyerScalingFun, Boostlet_syst\n"
   ]
  },
  {
   "cell_type": "code",
   "execution_count": null,
   "metadata": {},
   "outputs": [],
   "source": [
    "M, N = 500, 100, \n",
    "n_v_scales, n_h_scales = 3, 2  \n",
    "base_v, base_h = 0.5, 0.5\n",
    "n_v_thetas, n_h_thetas = 4, 3 \n",
    "\n",
    "BS = Boostlet_syst(dx=0.03, dt=1/11250, cs=340,\n",
    "                 M=M, N=N, \n",
    "                 n_v_scales=n_v_scales, n_h_scales=n_h_scales,\n",
    "                 n_v_thetas=n_v_thetas, n_h_thetas=n_h_thetas,   \n",
    "                 base_v=base_v, base_h=base_h\n",
    "                 )\n",
    "\n",
    "BS.print_max_scales()\n",
    "BS.plot_boostlet(itheta=1, isc=1)\n",
    "Psi = BS.get_boostlet_dict()\n",
    "# BS.plot_dict_boostlets()"
   ]
  },
  {
   "cell_type": "code",
   "execution_count": null,
   "metadata": {},
   "outputs": [],
   "source": [
    "BS.save_dict()\n"
   ]
  }
 ],
 "metadata": {
  "kernelspec": {
   "display_name": "FNOs",
   "language": "python",
   "name": "python3"
  },
  "language_info": {
   "codemirror_mode": {
    "name": "ipython",
    "version": 3
   },
   "file_extension": ".py",
   "mimetype": "text/x-python",
   "name": "python",
   "nbconvert_exporter": "python",
   "pygments_lexer": "ipython3",
   "version": "3.9.18"
  }
 },
 "nbformat": 4,
 "nbformat_minor": 2
}
