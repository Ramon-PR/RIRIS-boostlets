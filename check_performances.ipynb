{
 "cells": [
  {
   "cell_type": "code",
   "execution_count": 54,
   "metadata": {},
   "outputs": [
    {
     "name": "stdout",
     "output_type": "stream",
     "text": [
      "Se han cargado 18 archivos 'perform.mat'.\n"
     ]
    }
   ],
   "source": [
    "import os\n",
    "from scipy.io import loadmat\n",
    "\n",
    "# Ruta principal donde se encuentran los subdirectorios\n",
    "main_dir = \"outputs\"\n",
    "\n",
    "# Inicializar lista para almacenar el contenido de los archivos .mat\n",
    "list_perform = []\n",
    "\n",
    "# Recorrer todos los subdirectorios y archivos\n",
    "for root, dirs, files in os.walk(main_dir):\n",
    "    for file in files:\n",
    "        # Si el archivo es 'perform.mat', lo cargamos\n",
    "        if file == 'perform.mat':\n",
    "            # Construir la ruta completa al archivo\n",
    "            file_path = os.path.join(root, file)\n",
    "            # Cargar el archivo .mat\n",
    "            mat_data = loadmat(file_path)\n",
    "            # Añadir el contenido del archivo a la lista\n",
    "            list_perform.append(mat_data)\n",
    "\n",
    "# Ahora list_perform contiene todos los archivos perform.mat cargados\n",
    "print(f\"Se han cargado {len(list_perform)} archivos 'perform.mat'.\")"
   ]
  },
  {
   "cell_type": "code",
   "execution_count": 55,
   "metadata": {},
   "outputs": [
    {
     "name": "stdout",
     "output_type": "stream",
     "text": [
      "dict_keys(['__header__', '__version__', '__globals__', 'dic_name', 'rm_sk_ids', 'beta_star', 'NMSE_lin', 'NMSE', 'frqMAC', 'MAC_lin', 'MAC', 'beta_set', 'Jcurve'])\n",
      "['BS_m_128_n_128_vsc_2_hsc_2_bases_0.5_0.5_thV_15_thH_15.mat']\n",
      "[[-7.03092951]]\n"
     ]
    }
   ],
   "source": [
    "i=0\n",
    "print(list_perform[i].keys())\n",
    "print(list_perform[i]['dic_name'])\n",
    "print(list_perform[i]['NMSE'])\n"
   ]
  },
  {
   "cell_type": "code",
   "execution_count": 56,
   "metadata": {},
   "outputs": [
    {
     "data": {
      "image/png": "[encoded data removed]",
      "text/plain": [
       "<Figure size 640x480 with 1 Axes>"
      ]
     },
     "metadata": {},
     "output_type": "display_data"
    }
   ],
   "source": [
    "import matplotlib.pyplot as plt\n",
    "\n",
    "x = list_perform[i]['beta_set']\n",
    "y = list_perform[i]['Jcurve'].flatten()\n",
    "plt.plot(y,'o')\n",
    "plt.show()\n",
    "# y.shape"
   ]
  }
 ],
 "metadata": {
  "kernelspec": {
   "display_name": "wavelets",
   "language": "python",
   "name": "python3"
  },
  "language_info": {
   "codemirror_mode": {
    "name": "ipython",
    "version": 3
   },
   "file_extension": ".py",
   "mimetype": "text/x-python",
   "name": "python",
   "nbconvert_exporter": "python",
   "pygments_lexer": "ipython3",
   "version": "3.12.3"
  }
 },
 "nbformat": 4,
 "nbformat_minor": 2
}
