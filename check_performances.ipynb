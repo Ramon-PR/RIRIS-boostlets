{
 "cells": [
  {
   "cell_type": "markdown",
   "metadata": {},
   "source": [
    "# Definir funciones e imports"
   ]
  },
  {
   "cell_type": "code",
   "execution_count": null,
   "metadata": {},
   "outputs": [],
   "source": [
    "%load_ext autoreload\n",
    "%autoreload 2\n",
    "\n",
    "import os\n",
    "import scipy.io as sio\n",
    "import pandas as pd\n",
    "import matplotlib.pyplot as plt\n",
    "import numpy as np\n",
    "import pandas as pd\n",
    "\n",
    "plt.rcParams.update({\n",
    "    'text.usetex': True,            # Usar LaTeX para todo el texto\n",
    "    'font.size': 14,                # Tamaño de la fuente general\n",
    "    'axes.titlesize': 14,           # Tamaño de los títulos de los ejes\n",
    "    'axes.labelsize': 14,           # Tamaño de las etiquetas de los ejes\n",
    "    'xtick.labelsize': 14,          # Tamaño de las etiquetas de los ticks del eje x\n",
    "    'ytick.labelsize': 14,          # Tamaño de las etiquetas de los ticks del eje y\n",
    "    'legend.fontsize': 14,          # Tamaño de la fuente en las leyendas\n",
    "    'figure.titlesize': 16,         # Tamaño del título principal de la figura\n",
    "    'text.latex.preamble': r'\\usepackage{amsmath}'  # Permitir usar amsmath en LaTeX\n",
    "})\n"
   ]
  },
  {
   "cell_type": "markdown",
   "metadata": {},
   "source": [
    "Function to dissect the dictionary filename for parameters"
   ]
  },
  {
   "cell_type": "code",
   "execution_count": null,
   "metadata": {},
   "outputs": [],
   "source": [
    "\n",
    "# Función para extraer parámetros desde dic_name\n",
    "def vars_from_dictname(fname):\n",
    "    # Convertir a string\n",
    "    cadena = str(fname)\n",
    "    # Encontrar posiciones\n",
    "    inicio = cadena.find('S_')\n",
    "    fin = cadena.rfind('.mat')\n",
    "    # Extraer el substring\n",
    "    fname = cadena[inicio:fin]\n",
    "\n",
    "    # Dividir el nombre del archivo por los guiones bajos\n",
    "    partes = fname.split('_')\n",
    "\n",
    "    # Inicializar un diccionario para almacenar los valores\n",
    "    sk_params = {}\n",
    "\n",
    "    # Extraer las sk_params\n",
    "    for i in range(len(partes)):\n",
    "        if partes[i] == 'm':\n",
    "            sk_params['M'] = int(partes[i + 1])\n",
    "        elif partes[i] == 'n':\n",
    "            sk_params['N'] = int(partes[i + 1])\n",
    "        elif partes[i] == 'vsc':\n",
    "            sk_params['n_v_scales'] = int(partes[i + 1])\n",
    "        elif partes[i] == 'hsc':\n",
    "            sk_params['n_h_scales'] = int(partes[i + 1])\n",
    "        elif partes[i] == 'bases':\n",
    "            bases = [float(partes[i + 1]), float(partes[i + 2])]\n",
    "            sk_params['bases'] = bases\n",
    "        elif partes[i] == 'thV':\n",
    "            sk_params['n_v_thetas'] = int(partes[i + 1])\n",
    "        elif partes[i] == 'thH':\n",
    "            sk_params['n_h_thetas'] = int(partes[i + 1])\n",
    "\n",
    "    return sk_params\n"
   ]
  },
  {
   "cell_type": "markdown",
   "metadata": {},
   "source": [
    "Function to load all perform files in a folder and arrange them in a pandas dataframe"
   ]
  },
  {
   "cell_type": "code",
   "execution_count": null,
   "metadata": {},
   "outputs": [],
   "source": [
    "\n",
    "# Función para cargar los archivos .mat y extraer los datos\n",
    "def load_perform_files_from_folder(main_dir):\n",
    "    # Inicializar lista para almacenar el contenido de los archivos .mat\n",
    "    list_perform = []\n",
    "\n",
    "    # Recorrer todos los subdirectorios y archivos\n",
    "    for root, dirs, files in os.walk(main_dir):\n",
    "        for file in files:\n",
    "            # Si el archivo es 'perform.mat', lo cargamos\n",
    "            if file == 'perform.mat':\n",
    "                # Construir la ruta completa al archivo\n",
    "                file_path = os.path.join(root, file)\n",
    "                # Cargar el archivo .mat (squeeze_me solves problems with strings and added dimensions in np.arrays and scalars)\n",
    "                mat_data = sio.loadmat(file_path, squeeze_me=True)\n",
    "\n",
    "                # Aplicar squeeze a todos los elementos de mat_data\n",
    "                mat_data_squeezed = {key: value for key, value in mat_data.items() if not key.startswith('__')}\n",
    "\n",
    "                # Extraer parámetros desde dic_name\n",
    "                dic_name = mat_data_squeezed['dic_name']  # Usamos squeeze\n",
    "                sk_params = vars_from_dictname(dic_name)\n",
    "\n",
    "                # Añadir parámetros extraídos del nombre del archivo a mat_data\n",
    "                combined_data = {**mat_data_squeezed, **sk_params}\n",
    "\n",
    "                # Añadir el contenido del archivo combinado a la lista\n",
    "                list_perform.append(combined_data)\n",
    "\n",
    "    # Convertir la lista en un DataFrame de pandas\n",
    "    df = pd.DataFrame(list_perform)\n",
    "\n",
    "    print(f\"Se han cargado {len(list_perform)} archivos 'perform.mat'.\")\n",
    "    return df\n",
    "\n",
    "# # Ruta principal donde se encuentran los subdirectorios\n",
    "# main_dir = \"outputs/\"\n",
    "# # Cargar los archivos y construir el DataFrame\n",
    "# df_perform = load_perform_files_from_folder(main_dir)\n",
    "# # Mostrar las primeras filas del DataFrame\n",
    "# print(df_perform.head())"
   ]
  },
  {
   "cell_type": "markdown",
   "metadata": {},
   "source": [
    "# Cargar archivos"
   ]
  },
  {
   "cell_type": "code",
   "execution_count": null,
   "metadata": {},
   "outputs": [],
   "source": [
    "# df_ss_mics020 = load_perform_files_from_folder(r\"outputs/rm_0.2/shearlets\")\n",
    "# df_bs_mics020 = load_perform_files_from_folder(r\"outputs/rm_0.2/tan\")\n",
    "\n",
    "# df_ss_mics033 = load_perform_files_from_folder(r\"outputs/rm_0.33/shearlets\")\n",
    "# df_bs_mics033 = load_perform_files_from_folder(r\"outputs/rm_0.33/tan\")\n",
    "\n"
   ]
  },
  {
   "cell_type": "markdown",
   "metadata": {},
   "source": [
    "# Check padding in shearlets \n",
    "Image (M0, N0)=(100, 100) "
   ]
  },
  {
   "cell_type": "code",
   "execution_count": null,
   "metadata": {},
   "outputs": [],
   "source": [
    "# Crear la tabla pivote\n",
    "# tabla_pivote = df_ss_mics033.pivot(index='M', columns='N', values='NMSE')\n",
    "# tabla_pivote\n",
    "\n",
    "# tabla_pivote = df_ss_mics020.pivot(index='M', columns='N', values='NMSE')\n",
    "# tabla_pivote\n"
   ]
  },
  {
   "cell_type": "markdown",
   "metadata": {},
   "source": [
    "# Compare ShearletSystem and BS in similar conditions\n",
    "+ Padding 128x128\n",
    "+ 4 scales in H & V cones\n",
    "    - $\\alpha = 1/\\sqrt{2}$\n",
    "+ Applied to same image \n",
    "    - Balder $T_{start}=1000$ and M0=100\n",
    "    - jittering mask, ratio_mics=0.2\n"
   ]
  },
  {
   "cell_type": "markdown",
   "metadata": {},
   "source": [
    "Plot of NMSE.  \n",
    "I have chosen $\\beta^*$ in the x axis because the shearlets do not have another parameter as boostlet systems to order the data,  \n",
    "and $\\beta^*$ is a unique value for each NMSE."
   ]
  },
  {
   "cell_type": "code",
   "execution_count": null,
   "metadata": {},
   "outputs": [],
   "source": [
    "Tstart=0\n",
    "ratio_mics=0.2\n",
    "nmics=int(ratio_mics*100.)\n",
    "str_title = rf'Balder $n_{{mics}}={nmics}$, $T_{{start}}={Tstart}$, $(M,N)=(128, 128)$'\n",
    "\n",
    "df = load_perform_files_from_folder(rf\"outputs/T{Tstart}/rm_{ratio_mics}/tan_like_ss/T_{Tstart}_M0_100\")\n",
    "df_ss = load_perform_files_from_folder(rf\"outputs/T{Tstart}/rm_{ratio_mics}/shearlets\")\n",
    "\n",
    "\n",
    "ss_df = df_ss[ (df_ss['M']==128) & (df_ss['N']==128) ]\n",
    "bs_df_a = df[(df['M']==128) & (df['N']==128) & (df['n_v_scales']==3) & (df['n_h_scales']==3) & (df['n_h_thetas']==3)]\n",
    "bs_df_b = df[(df['M']==128) & (df['N']==128) & (df['n_v_scales']==3) & (df['n_h_scales']==3) & (df['n_h_thetas']==7)]\n",
    "bs_df_c = df[(df['M']==128) & (df['N']==128) & (df['n_v_scales']==3) & (df['n_h_scales']==3) & (df['n_h_thetas']==15)]\n",
    "\n",
    "xax = 'beta_star'\n",
    "yax = 'NMSE'\n",
    "\n",
    "colors = {\n",
    "    'shearlets': '#1f77b4',    # Azul para ShearletsSyst\n",
    "    'bs_df_a': '#ff7f0e',      # Naranja para la primera variación de BS\n",
    "    'bs_df_b': '#2ca02c',      # Verde para la segunda variación de BS\n",
    "    'bs_df_c': '#d62728'       # Rojo oscuro para la tercera variación de BS\n",
    "}\n",
    "\n",
    "fig, ax = plt.subplots()\n",
    "ax.plot(ss_df[xax], ss_df[yax], 'v', label='ShearletSyst', color=colors['shearlets'])\n",
    "ax.plot(bs_df_a[xax], bs_df_a[yax], 'o', label=fr'BS $n_{{\\theta_H}} = {bs_df_a[\"n_h_thetas\"].iloc[0]}$', color=colors['bs_df_a'])\n",
    "ax.plot(bs_df_b[xax], bs_df_b[yax], 'o', label=fr'BS $n_{{\\theta_H}} = {bs_df_b[\"n_h_thetas\"].iloc[0]}$', color=colors['bs_df_b'])\n",
    "ax.plot(bs_df_c[xax], bs_df_c[yax], 'o', label=fr'BS $n_{{\\theta_H}} = {bs_df_c[\"n_h_thetas\"].iloc[0]}$', color=colors['bs_df_c'])\n",
    "\n",
    "# Graficar NMSE_lin\n",
    "ax.plot(ss_df[xax], ss_df['NMSE_lin'], '*', alpha=0.7, label=r'NMSE$_{lin}$')\n",
    "ax.plot(bs_df_a[xax], bs_df_a['NMSE_lin'], '*', alpha=0.7)\n",
    "ax.plot(bs_df_b[xax], bs_df_b['NMSE_lin'], '*', alpha=0.7)\n",
    "ax.plot(bs_df_c[xax], bs_df_c['NMSE_lin'], '*', alpha=0.7)\n",
    "\n",
    "\n",
    "# Añadir texto con el valor de 'n_v_thetas' cerca de cada punto en bs_df_a\n",
    "for i, txt in enumerate(bs_df_a['n_v_thetas']):\n",
    "    ax.text(bs_df_a[xax].iloc[i], bs_df_a[yax].iloc[i], str(txt), fontsize=10, color=colors['bs_df_a'], ha='left', va='bottom')\n",
    "    \n",
    "for i, txt in enumerate(bs_df_b['n_v_thetas']):\n",
    "    ax.text(bs_df_b[xax].iloc[i], bs_df_b[yax].iloc[i], str(txt), fontsize=10, color=colors['bs_df_b'], ha='left', va='bottom')\n",
    "\n",
    "for i, txt in enumerate(bs_df_c['n_v_thetas']):\n",
    "    ax.text(bs_df_c[xax].iloc[i], bs_df_c[yax].iloc[i], str(txt), fontsize=10, color=colors['bs_df_c'], ha='left', va='bottom')\n",
    "\n",
    "# Etiquetas de los ejes\n",
    "ax.set_xlabel(r'$\\beta^*$')   # Etiqueta con formato LaTeX\n",
    "ax.set_ylabel('NMSE')\n",
    "ax.grid(True)\n",
    "\n",
    "# Mostrar leyenda y gráfica\n",
    "# plt.legend(loc='lower left', bbox_to_anchor=(0.65, 0.1), fontsize='small', framealpha=0.8)  # Fuera de la gráfica\n",
    "plt.legend(loc='best')  # Fuera de la gráfica\n",
    "\n",
    "plt.suptitle(str_title)\n",
    "plt.tight_layout(rect=(0, 0, 0.9, 1)) # solves a problem where the right part of the plot is missing in .eps\n",
    "plt.savefig(f'./figs_paper/NMSE_beta_star_ss_bstan_BalderT{Tstart}_m{nmics}_M128.eps', format='eps', bbox_inches='tight')\n",
    "plt.show()\n",
    "\n"
   ]
  },
  {
   "cell_type": "markdown",
   "metadata": {},
   "source": [
    "##  Check dicts"
   ]
  },
  {
   "cell_type": "code",
   "execution_count": null,
   "metadata": {},
   "outputs": [],
   "source": [
    "from mod_RIRIS_func import load_sk\n",
    "from mod_plotting_utilities import plot_ls_images\n",
    "\n",
    "folder_dict = r'ss_saved_dicts/'\n",
    "file_dict = r'SS_m_128_n_128.mat'\n",
    "temp = load_sk(folder=folder_dict, file=file_dict, build_dict=None)\n",
    "indices = [0,1,3,4,6,7,8,10,11,12,13,15,16,17,21,22,26,27,33,34,40] # 1, 3, 4, 6, 8, 10 , 11, 12, 17\n",
    "sc_ss = sum(temp[:, :, i]**2 for i in indices)\n",
    "\n",
    "# folder_dict = r'saved_dicts/tan_dicts/sc_like_shearlets/'\n",
    "folder_dict = r'saved_dicts/tan_dicts/M128_bases/'\n",
    "# file_dict = r'BS_m_128_n_128_vsc_3_hsc_3_bases_0.7071_0.7071_thV_3_thH_3.mat'\n",
    "file_dict = r'BS_m_128_n_128_vsc_0_hsc_0_bases_0.1_0.1_thV_3_thH_3.mat'\n",
    "temp = load_sk(folder=folder_dict, file=file_dict, build_dict=None)\n",
    "sc_bs_3_3 = temp[:,:,0]\n",
    "\n",
    "# folder_dict = r'saved_dicts/tan_dicts/sc_like_shearlets/'\n",
    "# file_dict = r'BS_m_128_n_128_vsc_3_hsc_3_bases_0.7071_0.7071_thV_3_thH_7.mat'\n",
    "file_dict = r'BS_m_128_n_128_vsc_2_hsc_2_bases_0.5_0.5_thV_3_thH_7.mat'\n",
    "temp = load_sk(folder=folder_dict, file=file_dict, build_dict=None)\n",
    "sc_bs_3_7 = temp[:,:,0]\n",
    "\n",
    "# folder_dict = r'saved_dicts/tan_dicts/sc_like_shearlets/'\n",
    "# file_dict = r'BS_m_128_n_128_vsc_3_hsc_3_bases_0.7071_0.7071_thV_3_thH_15.mat'\n",
    "file_dict = r'BS_m_128_n_128_vsc_19_hsc_19_bases_0.9_0.9_thV_3_thH_15.mat'\n",
    "temp = load_sk(folder=folder_dict, file=file_dict, build_dict=None)\n",
    "sc_bs_3_15 = temp[:,:,0]\n",
    "\n",
    "images = [sc_ss, sc_bs_3_3, sc_bs_3_7, sc_bs_3_15]\n",
    "titles = [\"ShearletSystem\", r\"BS $n_{\\theta_H}$ = 3\", r\"BS $n_{\\theta_H}$ = 7\", r\"BS $n_{\\theta_H}$ = 15\"]\n",
    "fig, ax = plt.subplots(1,4, figsize=(16,6))\n",
    "for i, im in enumerate(images):\n",
    "    ax[i].imshow(np.abs(im))\n",
    "    ax[i].axis('off')\n",
    "    ax[i].set_title(titles[i])\n",
    "    ax[i].plot(np.arange(128), np.arange(128), 'k')\n",
    "    ax[i].plot(np.arange(128), np.arange(128, 0, -1), 'k')\n",
    "plt.savefig('./figs_paper/elements_aligned_with_diag.eps', format='eps', bbox_inches='tight')\n",
    "plt.show()\n"
   ]
  },
  {
   "cell_type": "markdown",
   "metadata": {},
   "source": [
    "# Compare scatter of the results"
   ]
  },
  {
   "cell_type": "code",
   "execution_count": null,
   "metadata": {},
   "outputs": [],
   "source": [
    "\n",
    "# str_title = rf'Balder $n_{{mics}}={20}$, $T_{{start}}={1000}$, $(M,N)=(128, 128)$'\n",
    "\n",
    "# df_ss_mics020 = load_perform_files_from_folder(r\"outputs/rm_0.2/shearlets\")\n",
    "# df = load_perform_files_from_folder(r\"outputs/rm_0.2/tan_like_ss\")\n",
    "# # df = load_perform_files_from_folder(r\"outputs/rm_0.2/tan_like_ss/T_1000_M0_100\")\n",
    "\n",
    "# ss_df = df_ss_mics020[ (df_ss_mics020['M']==128) & (df_ss_mics020['N']==128) ]\n",
    "# bs_df_a = df[(df['M']==128) & (df['N']==128) & (df['n_v_scales']==3) & (df['n_h_scales']==3) & (df['n_h_thetas']==3)]\n",
    "# bs_df_b = df[(df['M']==128) & (df['N']==128) & (df['n_v_scales']==3) & (df['n_h_scales']==3) & (df['n_h_thetas']==7)]\n",
    "# bs_df_c = df[(df['M']==128) & (df['N']==128) & (df['n_v_scales']==3) & (df['n_h_scales']==3) & (df['n_h_thetas']==15)]\n",
    "\n",
    "# xax = 'beta_star'\n",
    "# yax = 'NMSE'\n",
    "\n",
    "# colors = {\n",
    "#     'shearlets': '#1f77b4',    # Azul para ShearletsSyst\n",
    "#     'bs_df_a': '#ff7f0e',      # Naranja para la primera variación de BS\n",
    "#     'bs_df_b': '#2ca02c',      # Verde para la segunda variación de BS\n",
    "#     'bs_df_c': '#d62728'       # Rojo oscuro para la tercera variación de BS\n",
    "# }\n",
    "\n",
    "# fig, ax = plt.subplots(figsize=(16,6))\n",
    "# ax.plot(ss_df[xax], ss_df[yax], 'v', label='ShearletSyst', color=colors['shearlets'])\n",
    "# ax.plot(bs_df_a[xax], bs_df_a[yax], 'o', label=fr'BS $n_{{\\theta_H}} = {bs_df_a[\"n_h_thetas\"].iloc[0]}$', color=colors['bs_df_a'])\n",
    "# ax.plot(bs_df_b[xax], bs_df_b[yax], 'o', label=fr'BS $n_{{\\theta_H}} = {bs_df_b[\"n_h_thetas\"].iloc[0]}$', color=colors['bs_df_b'])\n",
    "# ax.plot(bs_df_c[xax], bs_df_c[yax], 'o', label=fr'BS $n_{{\\theta_H}} = {bs_df_c[\"n_h_thetas\"].iloc[0]}$', color=colors['bs_df_c'])\n",
    "\n",
    "# # Graficar NMSE_lin\n",
    "# ax.plot(ss_df[xax], ss_df['NMSE_lin'], '*', alpha=0.7)\n",
    "# ax.plot(bs_df_a[xax], bs_df_a['NMSE_lin'], '*', alpha=0.7)\n",
    "# ax.plot(bs_df_b[xax], bs_df_b['NMSE_lin'], '*', alpha=0.7)\n",
    "# ax.plot(bs_df_c[xax], bs_df_c['NMSE_lin'], '*', alpha=0.7)\n",
    "\n",
    "\n",
    "# # Añadir texto con el valor de 'n_v_thetas' cerca de cada punto en bs_df_a\n",
    "# # for i, txt in enumerate(bs_df_a['n_v_thetas']):\n",
    "# #     ax.text(bs_df_a[xax].iloc[i], bs_df_a[yax].iloc[i], str(txt), fontsize=10, color=colors['bs_df_a'], ha='left', va='bottom')\n",
    "    \n",
    "# # for i, txt in enumerate(bs_df_b['n_v_thetas']):\n",
    "# #     ax.text(bs_df_b[xax].iloc[i], bs_df_b[yax].iloc[i], str(txt), fontsize=10, color=colors['bs_df_b'], ha='left', va='bottom')\n",
    "\n",
    "# # for i, txt in enumerate(bs_df_c['n_v_thetas']):\n",
    "# #     ax.text(bs_df_c[xax].iloc[i], bs_df_c[yax].iloc[i], str(txt), fontsize=10, color=colors['bs_df_c'], ha='left', va='bottom')\n",
    "\n",
    "# # Etiquetas de los ejes\n",
    "# ax.set_xlabel(r'$\\beta^*$')   # Etiqueta con formato LaTeX\n",
    "# ax.set_ylabel('NMSE')\n",
    "# ax.grid(True)\n",
    "\n",
    "# # Mostrar leyenda y gráfica\n",
    "# plt.legend(loc='lower left', bbox_to_anchor=(1.01, 0.1), fontsize='small', framealpha=0.8)  # Fuera de la gráfica\n",
    "# # plt.legend(loc='best')  # Fuera de la gráfica\n",
    "\n",
    "# plt.suptitle(str_title)\n",
    "# plt.tight_layout(rect=(0, 0, 0.9, 1)) # solves a problem where the right part of the plot is missing in .eps\n",
    "# # plt.savefig('./figs_paper/NMSE_beta_star_ss_bstan_BalderT1000_m20_M128.eps', format='eps', bbox_inches='tight')\n",
    "# plt.show()"
   ]
  },
  {
   "cell_type": "code",
   "execution_count": null,
   "metadata": {},
   "outputs": [],
   "source": [
    "bs_df_aa = bs_df_a[bs_df_a['n_v_thetas']==3]\n",
    "bs_df_ab = bs_df_a[bs_df_a['n_v_thetas']==7]\n",
    "bs_df_ac = bs_df_a[bs_df_a['n_v_thetas']==15]\n",
    "\n",
    "bs_df_ba = bs_df_b[bs_df_b['n_v_thetas']==3]\n",
    "bs_df_bb = bs_df_b[bs_df_b['n_v_thetas']==7]\n",
    "bs_df_bc = bs_df_b[bs_df_b['n_v_thetas']==15]\n",
    "\n",
    "bs_df_ca = bs_df_c[bs_df_c['n_v_thetas']==3]\n",
    "bs_df_cb = bs_df_c[bs_df_c['n_v_thetas']==7]\n",
    "bs_df_cc = bs_df_c[bs_df_c['n_v_thetas']==15]\n",
    "\n",
    "print(f\"mean NMSE shearlets:  {ss_df['NMSE'].mean()}\")\n",
    "print(f\"mean NMSE BS (h, v)=(3, 3):  {bs_df_aa['NMSE'].mean()}\")\n",
    "print(f\"mean NMSE BS (h, v)=(3, 7):  {bs_df_ab['NMSE'].mean()}\")\n",
    "print(f\"mean NMSE BS (h, v)=(3, 15):  {bs_df_ac['NMSE'].mean()}\")\n",
    "print(f\"mean NMSE BS (h, v)=(7, 3):  {bs_df_ba['NMSE'].mean()}\")\n",
    "print(f\"mean NMSE BS (h, v)=(7, 7):  {bs_df_bb['NMSE'].mean()}\")\n",
    "print(f\"mean NMSE BS (h, v)=(7, 15):  {bs_df_bc['NMSE'].mean()}\")\n",
    "print(f\"mean NMSE BS (h, v)=(15, 3):  {bs_df_ca['NMSE'].mean()}\")\n",
    "print(f\"mean NMSE BS (h, v)=(15, 7):  {bs_df_cb['NMSE'].mean()}\")\n",
    "print(f\"mean NMSE BS (h, v)=(15, 15):  {bs_df_cc['NMSE'].mean()}\")\n",
    "\n"
   ]
  },
  {
   "cell_type": "code",
   "execution_count": null,
   "metadata": {},
   "outputs": [],
   "source": [
    "\n",
    "print(f\"std NMSE shearlets:  {ss_df['NMSE'].std()}\")\n",
    "print(f\"std NMSE BS (h, v)=(3, 3):  {bs_df_aa['NMSE'].std()}\")\n",
    "print(f\"std NMSE BS (h, v)=(3, 7):  {bs_df_ab['NMSE'].std()}\")\n",
    "print(f\"std NMSE BS (h, v)=(3, 15):  {bs_df_ac['NMSE'].std()}\")\n",
    "print(f\"std NMSE BS (h, v)=(7, 3):  {bs_df_ba['NMSE'].std()}\")\n",
    "print(f\"std NMSE BS (h, v)=(7, 7):  {bs_df_bb['NMSE'].std()}\")\n",
    "print(f\"std NMSE BS (h, v)=(7, 15):  {bs_df_bc['NMSE'].std()}\")\n",
    "print(f\"std NMSE BS (h, v)=(15, 3):  {bs_df_ca['NMSE'].std()}\")\n",
    "print(f\"std NMSE BS (h, v)=(15, 7):  {bs_df_cb['NMSE'].std()}\")\n",
    "print(f\"std NMSE BS (h, v)=(15, 15):  {bs_df_cc['NMSE'].std()}\")\n"
   ]
  },
  {
   "cell_type": "code",
   "execution_count": null,
   "metadata": {},
   "outputs": [],
   "source": [
    "plt.figure(figsize=(10, 6))\n",
    "\n",
    "# Graficar el campo NMSE\n",
    "plt.plot(df['NMSE'], 'o', color='b', label='NMSE')\n",
    "\n",
    "# Agregar etiquetas con el campo 'bases' en cada punto\n",
    "for i, base in enumerate(df['dic_name']):\n",
    "    plt.text(i, df['NMSE'].iloc[i], str(base), fontsize=9, ha='right')\n",
    "\n",
    "# Configurar etiquetas y título del gráfico\n",
    "plt.xlabel(\"Índice\")\n",
    "plt.ylabel(\"NMSE\")\n",
    "plt.title(\"Gráfico de NMSE con etiquetas de 'bases'\")\n",
    "plt.legend()\n",
    "\n",
    "# Mostrar el gráfico\n",
    "plt.show()"
   ]
  },
  {
   "cell_type": "markdown",
   "metadata": {},
   "source": [
    "Estadisticas:"
   ]
  },
  {
   "cell_type": "code",
   "execution_count": null,
   "metadata": {},
   "outputs": [],
   "source": [
    "Tstart=1000\n",
    "ratio_mics=0.2\n",
    "nmics=int(ratio_mics*100.)\n",
    "\n",
    "df_ss = load_perform_files_from_folder(rf\"outputs/stats_runs/shearlets/rm_{ratio_mics}/T_{Tstart}_M0_100\")\n",
    "df = load_perform_files_from_folder(rf\"outputs/stats_runs/tan_like_ss/rm_{ratio_mics}/T_{Tstart}_M0_100\")\n",
    "\n"
   ]
  },
  {
   "cell_type": "code",
   "execution_count": null,
   "metadata": {},
   "outputs": [],
   "source": [
    "df = load_perform_files_from_folder(rf\"outputs/BigImage\")\n",
    "df"
   ]
  },
  {
   "cell_type": "markdown",
   "metadata": {},
   "source": [
    "# Tests con distintos r"
   ]
  },
  {
   "cell_type": "code",
   "execution_count": null,
   "metadata": {},
   "outputs": [],
   "source": [
    "Tstart=1000\n",
    "ratio_mics=0.33\n",
    "\n",
    "nmics=int(ratio_mics*100)\n",
    "str_title = rf'Balder $n_{{mics}}={nmics}$, $T_{{start}}={Tstart}$, $(M,N)=(128, 128)$'\n",
    "\n",
    "df = load_perform_files_from_folder(rf\"outputs/T{Tstart}/rm_{ratio_mics}/tan/\")\n",
    "\n"
   ]
  },
  {
   "cell_type": "markdown",
   "metadata": {},
   "source": [
    "Mirar todos los outputs, marcados por el $n_{\\theta_H}$"
   ]
  },
  {
   "cell_type": "code",
   "execution_count": null,
   "metadata": {},
   "outputs": [],
   "source": [
    "\n",
    "df_nh15 = df[ df['n_h_thetas']==15 ]\n",
    "df_nh7 = df[ df['n_h_thetas']==7 ]\n",
    "df_nh3 = df[ df['n_h_thetas']==3 ]\n",
    "\n",
    "fig, ax = plt.subplots()\n",
    "for dfi in [df_nh15, df_nh7, df_nh3]:\n",
    "    ax.plot(dfi['NMSE'], 'o', label=rf\"$n_{{\\theta_H}} ={dfi['n_h_thetas'].iloc[0]}$\")\n",
    "ax.legend()\n",
    "ax.set_xlabel(\"index\")\n",
    "ax.set_ylabel(\"NMSE\")\n",
    "plt.show()\n"
   ]
  },
  {
   "cell_type": "markdown",
   "metadata": {},
   "source": [
    "Los mejores resultados son para $n_{\\theta_H}=15$, extraigo esos datos y sigo filtrando."
   ]
  },
  {
   "cell_type": "code",
   "execution_count": null,
   "metadata": {},
   "outputs": [],
   "source": [
    "df15 = df[ (df['n_h_thetas']==15) ]\n",
    "unique_values = df15['n_v_thetas'].unique()\n",
    "\n",
    "# Crear un gráfico para cada valor de 'n_v_thetas'\n",
    "plt.figure(figsize=(6, 4))\n",
    "\n",
    "for n_v_theta in unique_values:\n",
    "    subset = df15[df15['n_v_thetas'] == n_v_theta]    \n",
    "    # Graficar los datos del subconjunto\n",
    "    plt.plot(subset['NMSE'], marker='o', label=fr'$n_{{\\theta_V}}={n_v_theta}$')\n",
    "\n",
    "# plt.title(f'Gráfico para n_v_thetas = {n_v_theta}')\n",
    "plt.xlabel('index')\n",
    "plt.ylabel('NMSE')\n",
    "plt.legend()\n",
    "plt.grid(True)\n",
    "\n",
    "# Mostrar o guardar el gráfico\n",
    "plt.show()\n",
    "\n"
   ]
  },
  {
   "cell_type": "markdown",
   "metadata": {},
   "source": [
    "Ahora cojo el mejor caso que es $n_{\\theta_V}=15$ y estudio para distintas bases"
   ]
  },
  {
   "cell_type": "code",
   "execution_count": null,
   "metadata": {},
   "outputs": [],
   "source": [
    "# Filtrar por `n_v_thetas == 15` y hacer una copia explícita\n",
    "df1515 = df15[df15['n_v_thetas'] == 15].copy()\n",
    "\n",
    "# Convertir listas en la columna `bases` a tuplas y obtener valores únicos\n",
    "df1515['bases_tuple'] = df1515['bases'].apply(lambda x: tuple(x) if isinstance(x, list) else x)\n",
    "bases_to_filter = df1515['bases_tuple'].dropna().unique()\n",
    "\n",
    "# Crear un diccionario para almacenar los subconjuntos\n",
    "filtered_dfs = {\n",
    "    str(base): df1515[df1515['bases_tuple'] == base]\n",
    "    for base in bases_to_filter\n",
    "}\n",
    "\n",
    "# Graficar los subconjuntos\n",
    "fig, ax = plt.subplots()\n",
    "\n",
    "for base, dfi in filtered_dfs.items():\n",
    "    if not dfi.empty:  # Asegurarse de que el subconjunto no esté vacío\n",
    "        ax.plot(dfi['NMSE'], 'o', label=rf\"$(\\alpha_V, \\alpha_H)={base}$\")\n",
    "\n",
    "# Configurar leyendas y mostrar\n",
    "ax.set_title(r\"Boostlets with $(n_{\\theta_V}, n_{\\theta_H})=(15,15)$\")\n",
    "# ax.set_xlabel(\"index\")\n",
    "ax.set_xticks([])\n",
    "ax.set_ylabel(\"NMSE\")\n",
    "ax.legend()\n",
    "plt.show()"
   ]
  },
  {
   "cell_type": "markdown",
   "metadata": {},
   "source": [
    "Mejores resultados:\n",
    "+ $n_{\\theta_H} = 15$\n",
    "+ $n_{\\theta_V} = 15$\n",
    "+ $\\alpha_{V} = 0.1$ mejor que $\\alpha_{V} = 0.5$ mejor que $\\alpha_{V} = 0.9$\n",
    "    - 0.1 Son escalas muy grandes, solo cabe una isc=0\n",
    "    - 0.5 escalas medias, caben 3 escalas isc=0,1,2\n",
    "    - 0.9 escales pequeñas, caben 20 escalas, isc=0,...,19\n",
    "\n"
   ]
  },
  {
   "cell_type": "code",
   "execution_count": null,
   "metadata": {},
   "outputs": [],
   "source": [
    "print(df1515[['NMSE', 'bases']])"
   ]
  }
 ],
 "metadata": {
  "kernelspec": {
   "display_name": "wavelets",
   "language": "python",
   "name": "python3"
  },
  "language_info": {
   "codemirror_mode": {
    "name": "ipython",
    "version": 3
   },
   "file_extension": ".py",
   "mimetype": "text/x-python",
   "name": "python",
   "nbconvert_exporter": "python",
   "pygments_lexer": "ipython3",
   "version": "3.12.3"
  }
 },
 "nbformat": 4,
 "nbformat_minor": 2
}
