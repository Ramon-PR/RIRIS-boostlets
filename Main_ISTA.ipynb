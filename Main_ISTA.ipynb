{
 "cells": [
  {
   "cell_type": "code",
   "execution_count": null,
   "metadata": {},
   "outputs": [],
   "source": [
    "%load_ext autoreload\n",
    "%autoreload 2\n",
    "import os\n",
    "import numpy as np\n",
    "import matplotlib.pyplot as plt\n",
    "\n",
    "from boostlets_mod import Boostlet_syst, indexs_max_conv_mask_dict, indexs_max_conv_mask_maskedDict, sk_to_phys\n",
    "from mod_plotting_utilities import plot_array_images\n",
    "from mod_RIRIS_func import load_DB_ZEA, rand_downsamp_RIR, ImageOps, jitter_downsamp_RIR\n",
    "from mod_RIRIS_func import computePareto, ista, iffst, linear_interpolation_fft, perforMetrics\n"
   ]
  },
  {
   "cell_type": "markdown",
   "metadata": {},
   "source": [
    "# Inputs \n",
    "Dictionary and Image"
   ]
  },
  {
   "cell_type": "code",
   "execution_count": 37,
   "metadata": {},
   "outputs": [],
   "source": [
    "# Tamaño diccionario // Tamaño imagen interpolada\n",
    "M, N  = 128, 128\n",
    "# Imagen tamaño:\n",
    "M0, N0 = 100, 100\n",
    "\n",
    "# Dictionary\n",
    "n_v_scales, n_h_scales = 10, 10  \n",
    "base_v, base_h = 1/2, 1/2\n",
    "n_v_thetas, n_h_thetas = 15, 15 \n",
    "\n",
    "# Image\n",
    "room = \"Balder\"\n",
    "ratio_mics = 0.5\n",
    "u = round(1/ratio_mics)\n",
    "extrap_mode = \"extrapolate\" # or pad\n",
    "\n",
    "#  subimage \n",
    "Tstart = 0\n",
    "Tend = Tstart+M0\n",
    "\n",
    "# sampling \n",
    "dx=3e-2\n",
    "fs=11250\n",
    "cs=340\n",
    "\n",
    "# Pareto\n",
    "beta_set = np.logspace(-2.5, -1, 50)\n",
    "\n",
    "# ISTA\n",
    "epsilon = 9.4e-6 # ISTA\n",
    "\n"
   ]
  },
  {
   "cell_type": "markdown",
   "metadata": {},
   "source": [
    "## Create dict"
   ]
  },
  {
   "cell_type": "code",
   "execution_count": null,
   "metadata": {},
   "outputs": [],
   "source": [
    "BS = Boostlet_syst(dx=dx, dt=1/fs, cs=cs,\n",
    "                 M=M, N=N, \n",
    "                 n_v_scales=n_v_scales, n_h_scales=n_h_scales,\n",
    "                 n_v_thetas=n_v_thetas, n_h_thetas=n_h_thetas, \n",
    "                 base_v=base_v, base_h=base_h, \n",
    "                 )\n",
    "\n",
    "Sk = BS.get_boostlet_dict()\n",
    "\n",
    "BS.print_max_scales()\n",
    "# plot_array_images(Sk, num_cols=10)"
   ]
  },
  {
   "cell_type": "code",
   "execution_count": null,
   "metadata": {},
   "outputs": [],
   "source": [
    "from mod_RIRIS_func import load_sk\n",
    "folder_dict = 'saved_dicts/tan_dicts'\n",
    "file_dict = 'BS_m_128_n_128_vsc_2_hsc_2_bases_0.5_0.5_thV_3_thH_3.mat'\n",
    "Sk = load_sk(folder=folder_dict, file=file_dict, build_dict=None)\n",
    "plot_array_images(Sk, num_cols=10)\n"
   ]
  },
  {
   "cell_type": "markdown",
   "metadata": {},
   "source": [
    "## Load Image"
   ]
  },
  {
   "cell_type": "code",
   "execution_count": null,
   "metadata": {},
   "outputs": [],
   "source": [
    "# ---------- LOAD Image ---------------------------\n",
    "folder = \"./dependencies/measurementData\"\n",
    "file = room+\"RIR.mat\"\n",
    "file_path = os.path.join(folder, file)\n",
    "print(\"Image loaded:\")\n",
    "print(file_path)\n",
    "\n",
    "# Load full image and select a subimage to apply decomposition\n",
    "full_image = load_DB_ZEA(file_path)[0]\n",
    "orig_image = full_image[Tstart:Tend, :N0]\n",
    "\n",
    "# mask0, _ = rand_downsamp_RIR(orig_image.shape, ratio_t=1, ratio_x=ratio_mics)\n",
    "mask0, _ = jitter_downsamp_RIR(orig_image.shape, ratio_t=1, ratio_x=ratio_mics)\n"
   ]
  },
  {
   "cell_type": "markdown",
   "metadata": {},
   "source": [
    "## Extrapolation"
   ]
  },
  {
   "cell_type": "code",
   "execution_count": null,
   "metadata": {},
   "outputs": [],
   "source": [
    "\n",
    "# ----------------------------------------------------\n",
    "# Extrapolation\n",
    "# ----------------------------------------------------\n",
    "\n",
    "extr_size = Sk.shape[:2]\n",
    "imOps = ImageOps(orig_image.shape, mask=mask0, extrap_shape=extr_size, mode=extrap_mode) \n",
    "image = imOps.expand_image(orig_image)\n",
    "mask = imOps.get_mask(image)\n",
    "\n",
    "fft1 = np.fft.fftshift( np.fft.fft2(orig_image) )\n",
    "fft2 = np.fft.fftshift( np.fft.fft2(image) )\n",
    "fft3 = np.fft.fftshift( np.fft.fft2(mask*image) )\n",
    "\n",
    "images = [orig_image, image, mask*image, abs(fft1), abs(fft2)+200*abs(Sk[:,:,12]), abs(fft3)]\n",
    "titles = ['Original Image', 'Expanded Image', 'Masked image', r'$\\mathcal{F}(orig. im)$', r'$\\mathcal{F}(exp. im)$', r'$\\mathcal{F}(mask. im)$']\n",
    "\n",
    "fig, axs = plt.subplots(2,3, figsize=(6, 6))\n",
    "for ax, im, titl in zip(axs.flatten(), images, titles):\n",
    "    ax.pcolor(im[:128,:])\n",
    "    ax.set_title(titl)\n",
    "    ax.axis('off')\n",
    "plt.tight_layout()\n",
    "plt.show()"
   ]
  },
  {
   "cell_type": "markdown",
   "metadata": {},
   "source": [
    "## Remove elements from dict"
   ]
  },
  {
   "cell_type": "code",
   "execution_count": null,
   "metadata": {},
   "outputs": [],
   "source": [
    "from scipy import stats\n",
    "\n",
    "id1, B1 = indexs_max_conv_mask_dict(1-mask, Sk, f_plot=False)\n",
    "id2, B2 = indexs_max_conv_mask_maskedDict(1-mask, Sk, f_plot=False)\n",
    "\n",
    "\n",
    "a = np.where(id1 != 0)[0] # indices de id1 donde id1 no es 0\n",
    "boosts_id = id1[a] # id1 pero sin el indice boostlet0\n",
    "\n",
    "z = stats.zscore(B1[boosts_id])\n",
    "\n",
    "print(boosts_id)\n",
    "print(z)\n",
    "\n",
    "# zscore = (data_point - mean)/std_deviation\n",
    "z = stats.zscore(B2[boosts_id]) # of the points excluding boostlet 0\n",
    "temp = np.where(z > 0)[0] # point 1 std deviation above the mean\n",
    "rm_idxs = boosts_id[temp]\n",
    "\n",
    "print(rm_idxs)"
   ]
  },
  {
   "cell_type": "code",
   "execution_count": 8,
   "metadata": {},
   "outputs": [],
   "source": [
    "# phys_sk = sk_to_phys(Sk)\n",
    "# plot_array_images(phys_sk, cmap='gray', num_cols=10)"
   ]
  },
  {
   "cell_type": "code",
   "execution_count": null,
   "metadata": {},
   "outputs": [],
   "source": [
    "# Sk1 = np.delete(Sk, [2, 11, 14, 17], axis=2) # NMSE = 4.3\n",
    "# Sk1 = np.delete(Sk, [2], axis=2) # NMSE = -1.8\n",
    "# Sk1 = np.delete(Sk, [14], axis=2) # NMSE = -3\n",
    "# Sk1 = np.delete(Sk, [5], axis=2) # NMSE = -1.3\n",
    "# Sk1 = np.delete(Sk, [8], axis=2) # NMSE = -5.7\n",
    "# Sk1 = np.delete(Sk, [2,5,8], axis=2) # NMSE = -1.5\n",
    "# Sk1 = np.delete(Sk, [11, 14, 17], axis=2) # NMSE = 2.7 (HORRIBLE)\n",
    "# Sk1 = np.delete(Sk, [11, 14, 17, 1, 2, 3], axis=2) # NMSE = 5.4 (Pero tiene buena pinta)\n",
    "# Sk1 = np.delete(Sk, [11, 14, 17, 1, 2, 3, 10, 12], axis=2) # NMSE = 4.34 (Mas o menos pero con ruido en la parte alta de la onda)\n",
    "# Sk1 = np.delete(Sk, [1, 2, 3, 4, 5, 6, 7, 8, 9, 11, 14, 15, 17, 18], axis=2) # NMSE = 5.3 (Mas o menos pero con ruido en la parte alta de la onda) (No quitar el 12)\n",
    "\n",
    "\n",
    "\n",
    "# Sk1 = np.delete(Sk, [2], axis=2)\n",
    "# Sk1 = np.delete(Sk, rm_idxs, axis=2)\n",
    "# Sk1 = np.delete(Sk, rm_idxs, axis=2)\n",
    "Sk1 = np.delete(Sk, [2, 4], axis=2) # NMSE = -1.8\n",
    "\n",
    "\n",
    "beta_set = np.logspace(-2.5, -0.5, 50)\n",
    "beta_star, Jcurve = computePareto(image, mask, Sk1, beta_set, f_plot=True)\n",
    "epsilon = 9.4e-6\n",
    "alpha = ista(image, mask, Sk1, beta=beta_star, epsilon=epsilon, max_iterations=15, f_plot=False, f_verbose=False )\n",
    "image_recov = iffst(alpha, Sk1)\n",
    "final_image = imOps.recover_image(image_recov)\n",
    "image_linear = linear_interpolation_fft(image*mask, dx=dx, fs=fs, cs=cs)\n",
    "image_lin = imOps.recover_image(image_linear)\n",
    "# %% Performance Metrics\n",
    "NMSE_nlin, MAC, frqMAC = perforMetrics(image=image, image_recov=image_recov, \n",
    "                                    image_under=image*mask, \n",
    "                                    fs=fs, u=u, dx=dx, room=room)\n",
    "images = [orig_image[:100,:], (orig_image*mask0)[:100,:], final_image[:100,:], image_lin[:100,:]]\n",
    "titles = ['Original Image', 'Masked Image', 'Final reconst image', \"Linear reconst\"]\n",
    "fig, ax = plt.subplots(1, len(images), figsize=(18, 6))\n",
    "for i in range(len(images)):\n",
    "    ax[i].imshow(images[i])\n",
    "    ax[i].set_title(titles[i])\n",
    "    ax[i].axis('off')\n",
    "plt.tight_layout()\n",
    "plt.suptitle(f\"NMSE lin = {NMSE_nlin[0]};    NMSE dict = {NMSE_nlin[1]}\")\n",
    "plt.show()\n",
    "\n"
   ]
  },
  {
   "cell_type": "code",
   "execution_count": null,
   "metadata": {},
   "outputs": [],
   "source": [
    "print(beta_star)\n",
    "print(Jcurve)"
   ]
  },
  {
   "cell_type": "markdown",
   "metadata": {},
   "source": [
    "# ISTA\n"
   ]
  },
  {
   "cell_type": "code",
   "execution_count": null,
   "metadata": {},
   "outputs": [],
   "source": [
    "# ----------------------------------------------------\n",
    "# Pareto\n",
    "# ----------------------------------------------------\n",
    "beta_star, Jcurve = computePareto(image, mask, Sk, beta_set, f_plot=True)\n",
    "\n",
    "# %%\n",
    "\n",
    "# ----------------------------------------------------\n",
    "# ISTA recovery\n",
    "# ----------------------------------------------------\n",
    "alpha = ista(image, mask, Sk, beta=beta_star, epsilon=epsilon, max_iterations=15, f_plot=True, f_verbose=True )\n"
   ]
  },
  {
   "cell_type": "markdown",
   "metadata": {},
   "source": [
    "## Recover image"
   ]
  },
  {
   "cell_type": "code",
   "execution_count": 10,
   "metadata": {},
   "outputs": [],
   "source": [
    "# recover inpainted image from sparse coefficients (Eq. 19)\n",
    "image_recov = iffst(alpha, Sk)\n",
    "final_image = imOps.recover_image(image_recov)\n"
   ]
  },
  {
   "cell_type": "markdown",
   "metadata": {},
   "source": [
    "## Linear interpolation"
   ]
  },
  {
   "cell_type": "code",
   "execution_count": 11,
   "metadata": {},
   "outputs": [],
   "source": [
    "image_linear = linear_interpolation_fft(image*mask, dx=dx, fs=fs, cs=cs)\n",
    "image_lin = imOps.recover_image(image_linear)\n",
    "\n",
    "\n",
    "# %% Performance Metrics\n",
    "NMSE_nlin, MAC, frqMAC = perforMetrics(image=image, image_recov=image_recov, \n",
    "                                    image_under=image*mask, \n",
    "                                    fs=fs, u=u, dx=dx, room=room)\n"
   ]
  },
  {
   "cell_type": "markdown",
   "metadata": {},
   "source": [
    "## Visual results"
   ]
  },
  {
   "cell_type": "code",
   "execution_count": null,
   "metadata": {},
   "outputs": [],
   "source": [
    "\n",
    "images = [orig_image[:100,:], (orig_image*mask0)[:100,:], final_image[:100,:], image_lin[:100,:]]\n",
    "titles = ['Original Image', 'Masked Image', 'Final reconst image', \"Linear reconst\"]\n",
    "\n",
    "fig, ax = plt.subplots(1, len(images), figsize=(18, 6))\n",
    "for i in range(len(images)):\n",
    "    ax[i].imshow(images[i])\n",
    "    ax[i].set_title(titles[i])\n",
    "    ax[i].axis('off')\n",
    "plt.suptitle(f\"NMSE lin = {NMSE_nlin[0]};    NMSE dict = {NMSE_nlin[1]}\")\n",
    "plt.tight_layout()\n",
    "plt.show()"
   ]
  }
 ],
 "metadata": {
  "kernelspec": {
   "display_name": "wavelets",
   "language": "python",
   "name": "python3"
  },
  "language_info": {
   "codemirror_mode": {
    "name": "ipython",
    "version": 3
   },
   "file_extension": ".py",
   "mimetype": "text/x-python",
   "name": "python",
   "nbconvert_exporter": "python",
   "pygments_lexer": "ipython3",
   "version": "3.12.3"
  }
 },
 "nbformat": 4,
 "nbformat_minor": 2
}
