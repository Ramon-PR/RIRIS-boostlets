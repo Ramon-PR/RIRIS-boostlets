{
 "cells": [
  {
   "cell_type": "code",
   "execution_count": 1,
   "metadata": {},
   "outputs": [],
   "source": [
    "%load_ext autoreload\n",
    "%autoreload 2\n",
    "import os\n",
    "import numpy as np\n",
    "import matplotlib.pyplot as plt\n",
    "\n",
    "from boostlets_mod import Boostlet_syst, indexs_max_conv_mask_dict, indexs_max_conv_mask_maskedDict\n",
    "from mod_plotting_utilities import plot_array_images\n",
    "from mod_RIRIS_func import load_DB_ZEA, rand_downsamp_RIR, ImageOps, jitter_downsamp_RIR\n",
    "from mod_RIRIS_func import computePareto, ista, iffst, linear_interpolation_fft, perforMetrics\n"
   ]
  },
  {
   "cell_type": "markdown",
   "metadata": {},
   "source": [
    "# Inputs \n",
    "Dictionary and Image"
   ]
  },
  {
   "cell_type": "code",
   "execution_count": 8,
   "metadata": {},
   "outputs": [],
   "source": [
    "# Tamaño diccionario // Tamaño imagen interpolada\n",
    "M, N  = 128, 128\n",
    "# Imagen tamaño:\n",
    "M0, N0 = 100, 100\n",
    "\n",
    "# Dictionary\n",
    "n_v_scales, n_h_scales = 10, 10  \n",
    "base_v, base_h = 1/2, 1/2\n",
    "n_v_thetas, n_h_thetas = 3, 3 \n",
    "\n",
    "# Image\n",
    "room = \"Balder\"\n",
    "# //////////////////////////////////////\n",
    "ratio_mics = 0.4\n",
    "u = round(1/ratio_mics)\n",
    "# //////////////////////////////////////\n",
    "\n",
    "extrap_mode = \"pad\" # or pad\n",
    "\n",
    "# Seleccionar subimage \n",
    "Tstart = 0\n",
    "Tend = Tstart+M0\n",
    "\n",
    "# sampling \n",
    "dx=3e-2\n",
    "fs=11250\n",
    "cs=340\n",
    "\n"
   ]
  },
  {
   "cell_type": "markdown",
   "metadata": {},
   "source": [
    "## Create dict"
   ]
  },
  {
   "cell_type": "code",
   "execution_count": 9,
   "metadata": {},
   "outputs": [
    {
     "name": "stdout",
     "output_type": "stream",
     "text": [
      "vertical scales: 2\n",
      "horizontal scales: 2\n"
     ]
    }
   ],
   "source": [
    "BS = Boostlet_syst(dx=dx, dt=1/fs, cs=cs,\n",
    "                 M=M, N=N, \n",
    "                 n_v_scales=n_v_scales, n_h_scales=n_h_scales, \n",
    "                 base_v=base_v, base_h=base_h, \n",
    "                 )\n",
    "\n",
    "BS.print_max_scales()\n",
    "Sk = BS.get_boostlet_dict()\n",
    "\n",
    "# plot_array_images(Sk)"
   ]
  },
  {
   "cell_type": "markdown",
   "metadata": {},
   "source": [
    "## Load Image"
   ]
  },
  {
   "cell_type": "code",
   "execution_count": 10,
   "metadata": {},
   "outputs": [
    {
     "name": "stdout",
     "output_type": "stream",
     "text": [
      "Image loaded:\n",
      "./dependencies/measurementData\\BalderRIR.mat\n",
      "30\n",
      "40\n"
     ]
    }
   ],
   "source": [
    "# ---------- LOAD Image ---------------------------\n",
    "folder = \"./dependencies/measurementData\"\n",
    "file = room+\"RIR.mat\"\n",
    "file_path = os.path.join(folder, file)\n",
    "print(\"Image loaded:\")\n",
    "print(file_path)\n",
    "\n",
    "# Load full image and select a subimage to apply decomposition\n",
    "full_image = load_DB_ZEA(file_path)[0]\n",
    "orig_image = full_image[Tstart:Tend, :N0]\n",
    "\n",
    "# mask1, _ = rand_downsamp_RIR(orig_image.shape, ratio_t=1, ratio_x=ratio_mics)\n",
    "mask0, _ = jitter_downsamp_RIR(orig_image.shape, ratio_t=1, ratio_x=ratio_mics)\n",
    "\n",
    "# print(np.sum(mask1))\n",
    "# print(np.sum(mask0))\n"
   ]
  },
  {
   "cell_type": "markdown",
   "metadata": {},
   "source": [
    "## Extrapolation"
   ]
  },
  {
   "cell_type": "code",
   "execution_count": null,
   "metadata": {},
   "outputs": [],
   "source": [
    "\n",
    "# ----------------------------------------------------\n",
    "# Extrapolation\n",
    "# ----------------------------------------------------\n",
    "\n",
    "extr_size = Sk.shape[:2]\n",
    "imOps = ImageOps(orig_image.shape, mask=mask0, extrap_shape=extr_size, mode=extrap_mode) \n",
    "image = imOps.expand_image(orig_image)\n",
    "mask = imOps.get_mask(image)\n",
    "\n",
    "images = [orig_image, image, mask*image]\n",
    "titles = ['Original Image', 'Expanded Image', 'Masked image']\n",
    "fig, ax = plt.subplots(1, len(images), figsize=(18, 6))\n",
    "for i in range(len(images)):\n",
    "    ax[i].imshow(images[i][:128,:])\n",
    "    ax[i].set_title(titles[i])\n",
    "    ax[i].axis('off')\n",
    "plt.tight_layout()\n",
    "plt.show()"
   ]
  },
  {
   "cell_type": "markdown",
   "metadata": {},
   "source": [
    "## Remove elements from dict"
   ]
  },
  {
   "cell_type": "code",
   "execution_count": null,
   "metadata": {},
   "outputs": [],
   "source": [
    "id1 = indexs_max_conv_mask_dict(mask, Sk)\n",
    "id2 = indexs_max_conv_mask_maskedDict(mask, Sk)\n",
    "print(\"Indexes to remove\")\n",
    "print(id1[:10])\n",
    "print(id2[:10])\n",
    "\n",
    "\n"
   ]
  },
  {
   "cell_type": "code",
   "execution_count": null,
   "metadata": {},
   "outputs": [],
   "source": [
    "Sk1 = np.delete(Sk, [2, 11, 14, 17], axis=2)\n",
    "beta_set = np.logspace(-2.5, -1, 50)\n",
    "beta_star, Jcurve = computePareto(image, mask, Sk1, beta_set)\n",
    "epsilon = 9.4e-6\n",
    "alpha = ista(image, mask, Sk1, beta=beta_star, epsilon=epsilon, max_iterations=15 )\n",
    "image_recov = iffst(alpha, Sk1)\n",
    "final_image = imOps.recover_image(image_recov)\n",
    "image_linear = linear_interpolation_fft(image*mask, dx=dx, fs=fs, cs=cs)\n",
    "image_lin = imOps.recover_image(image_linear)\n",
    "# %% Performance Metrics\n",
    "image_under = image*mask\n",
    "u = 3 #undersampling value\n",
    "NMSE_nlin, MAC, frqMAC = perforMetrics(image=image, image_recov=image_recov, \n",
    "                                    image_under=image*mask, \n",
    "                                    fs=fs, u=u, dx=dx, room=room)\n",
    "# images = [orig_image[:100,:], (orig_image*mask0)[:100,:], final_image[:100,:], image_lin[:100,:]]\n",
    "# titles = ['Original Image', 'Masked Image', 'Final reconst image', \"Linear reconst\"]\n",
    "\n",
    "# fig, ax = plt.subplots(1, len(images), figsize=(18, 6))\n",
    "# for i in range(len(images)):\n",
    "#     ax[i].imshow(images[i])\n",
    "#     ax[i].set_title(titles[i])\n",
    "#     ax[i].axis('off')\n",
    "# plt.tight_layout()\n",
    "# plt.show()"
   ]
  },
  {
   "cell_type": "markdown",
   "metadata": {},
   "source": [
    "# ISTA\n"
   ]
  },
  {
   "cell_type": "code",
   "execution_count": null,
   "metadata": {},
   "outputs": [],
   "source": [
    "# ----------------------------------------------------\n",
    "# Pareto\n",
    "# ----------------------------------------------------\n",
    "\n",
    "beta_set = np.logspace(-2.5, -1, 50)\n",
    "beta_star, Jcurve = computePareto(image, mask, Sk, beta_set)\n",
    "\n",
    "# %%\n",
    "\n",
    "# ----------------------------------------------------\n",
    "# ISTA recovery\n",
    "# ----------------------------------------------------\n",
    "epsilon = 9.4e-6\n",
    "alpha = ista(image, mask, Sk, beta=beta_star, epsilon=epsilon, max_iterations=15 )\n"
   ]
  },
  {
   "cell_type": "markdown",
   "metadata": {},
   "source": [
    "## Recover image"
   ]
  },
  {
   "cell_type": "code",
   "execution_count": 32,
   "metadata": {},
   "outputs": [],
   "source": [
    "# recover inpainted image from sparse coefficients (Eq. 19)\n",
    "image_recov = iffst(alpha, Sk)\n",
    "final_image = imOps.recover_image(image_recov)\n"
   ]
  },
  {
   "cell_type": "markdown",
   "metadata": {},
   "source": [
    "## Linear interpolation"
   ]
  },
  {
   "cell_type": "code",
   "execution_count": null,
   "metadata": {},
   "outputs": [],
   "source": [
    "image_linear = linear_interpolation_fft(image*mask, dx=dx, fs=fs, cs=cs)\n",
    "image_lin = imOps.recover_image(image_linear)\n",
    "\n",
    "\n",
    "# %% Performance Metrics\n",
    "image_under = image*mask\n",
    "u = 3 #undersampling value\n",
    "NMSE_nlin, MAC, frqMAC = perforMetrics(image=image, image_recov=image_recov, \n",
    "                                    image_under=image*mask, \n",
    "                                    fs=fs, u=u, dx=dx, room=room)\n"
   ]
  },
  {
   "cell_type": "markdown",
   "metadata": {},
   "source": [
    "## Visual results"
   ]
  },
  {
   "cell_type": "code",
   "execution_count": null,
   "metadata": {},
   "outputs": [],
   "source": [
    "\n",
    "images = [orig_image[:100,:], (orig_image*mask0)[:100,:], final_image[:100,:], image_lin[:100,:]]\n",
    "titles = ['Original Image', 'Masked Image', 'Final reconst image', \"Linear reconst\"]\n",
    "\n",
    "fig, ax = plt.subplots(1, len(images), figsize=(18, 6))\n",
    "for i in range(len(images)):\n",
    "    ax[i].imshow(images[i])\n",
    "    ax[i].set_title(titles[i])\n",
    "    ax[i].axis('off')\n",
    "plt.tight_layout()\n",
    "plt.show()"
   ]
  },
  {
   "cell_type": "code",
   "execution_count": null,
   "metadata": {},
   "outputs": [],
   "source": []
  }
 ],
 "metadata": {
  "kernelspec": {
   "display_name": "FNOs",
   "language": "python",
   "name": "python3"
  },
  "language_info": {
   "codemirror_mode": {
    "name": "ipython",
    "version": 3
   },
   "file_extension": ".py",
   "mimetype": "text/x-python",
   "name": "python",
   "nbconvert_exporter": "python",
   "pygments_lexer": "ipython3",
   "version": "3.12.3"
  }
 },
 "nbformat": 4,
 "nbformat_minor": 2
}
