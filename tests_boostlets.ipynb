{
 "cells": [
  {
   "cell_type": "code",
   "execution_count": null,
   "metadata": {},
   "outputs": [],
   "source": [
    "%load_ext autoreload\n",
    "%autoreload 2\n",
    "\n",
    "import numpy as np\n",
    "from boostlets_mod import genBoostlet\n",
    "import matplotlib.pyplot as plt\n"
   ]
  },
  {
   "cell_type": "markdown",
   "metadata": {},
   "source": [
    "## Import image"
   ]
  },
  {
   "cell_type": "code",
   "execution_count": null,
   "metadata": {},
   "outputs": [],
   "source": [
    "import os\n",
    "from mod_RIRIS_func import load_sk, load_DB_ZEA, rand_downsamp_RIR, ImageOps, jitter_downsamp_RIR\n",
    "\n",
    "# Tamaño diccionario // Tamaño imagen interpolada\n",
    "M, N  = 128, 128\n",
    "# Imagen tamaño:\n",
    "M0, N0 = 100, 100\n",
    "ratio_mics = 0.5\n",
    "Tstart = 0\n",
    "Tend = Tstart+M0\n",
    "\n",
    "# ---------- LOAD Image ---------------------------\n",
    "room= 'Balder'\n",
    "folder = \"./dependencies/measurementData\"\n",
    "file = room+\"RIR.mat\"\n",
    "file_path = os.path.join(folder, file)\n",
    "\n",
    "full_image = load_DB_ZEA(file_path)[0]\n",
    "orig_image = full_image[Tstart:Tend, :N0]\n",
    "mask0, _ = jitter_downsamp_RIR(orig_image.shape, ratio_t=1, ratio_x=ratio_mics)\n",
    "\n",
    "# ----------------------------------------------------\n",
    "# Extrapolation\n",
    "# ----------------------------------------------------\n",
    "extr_size = (M,N)\n",
    "extrap_mode = 'pad'\n",
    "imOps = ImageOps(orig_image.shape, mask=mask0, extrap_shape=extr_size, mode=extrap_mode) \n",
    "\n",
    "image = imOps.expand_image(orig_image)\n",
    "mask = imOps.get_mask(image)\n",
    "\n",
    "fig, ax = plt.subplots(1,2)\n",
    "ax[0].imshow(orig_image[Tstart:Tstart+100, :])\n",
    "ax[1].imshow((orig_image*mask0)[Tstart:Tstart+100, :])\n",
    "\n",
    "ax[0].axis('off')\n",
    "ax[1].axis('off') \n",
    "plt.show()"
   ]
  },
  {
   "cell_type": "markdown",
   "metadata": {},
   "source": [
    "## Pareto con S=1 n_thetas=5. Diferentes beta_sets\n"
   ]
  },
  {
   "cell_type": "code",
   "execution_count": null,
   "metadata": {},
   "outputs": [],
   "source": [
    "# ----------------------------------------------------\n",
    "# Pareto\n",
    "# ----------------------------------------------------\n",
    "from mod_RIRIS_func import load_sk, computePareto, iffst, ista, linear_interpolation_fft\n",
    "\n",
    "S, n_thetas = 1, 5\n",
    "build_dict = dict(Sk_type = 'boostlet', N = N, S = S, n_thetas = n_thetas)\n",
    "Sk1 = load_sk(folder='./', file='dummy', build_dict=build_dict)\n",
    "\n",
    "beta_set = np.logspace(-2.5, -1, 50)\n",
    "beta_star1, Jcurve = computePareto(image*mask, mask, Sk1, beta_set)\n",
    "\n",
    "beta_set = np.logspace(-3, -0.5, 50)\n",
    "beta_star2, Jcurve = computePareto(image*mask, mask, Sk1, beta_set)\n",
    "\n",
    "beta_set = np.logspace(-5, -0.1, 50)\n",
    "beta_star3, Jcurve = computePareto(image*mask, mask, Sk1, beta_set)\n"
   ]
  },
  {
   "cell_type": "markdown",
   "metadata": {},
   "source": [
    "## ISTA con dict S=1 n_thetas=5. Diferentes beta_star"
   ]
  },
  {
   "cell_type": "code",
   "execution_count": null,
   "metadata": {},
   "outputs": [],
   "source": [
    "print(f\"Para dict con S={S}, n_thetas={n_thetas}\")\n",
    "print(f\"Different beta_sets, dan:\")\n",
    "print(\"-------------------------------\")\n",
    "print(f\"beta_star1 = {beta_star1}\")\n",
    "print(f\"beta_star2 = {beta_star2}\")\n",
    "print(f\"beta_star3 = {beta_star3}\")\n"
   ]
  },
  {
   "cell_type": "code",
   "execution_count": null,
   "metadata": {},
   "outputs": [],
   "source": [
    "# ----------------------------------------------------\n",
    "# ISTA recovery\n",
    "# ----------------------------------------------------\n",
    "epsilon = 9.4e-6\n",
    "alpha1 = ista(image*mask, mask, Sk1, beta=beta_star1, epsilon=epsilon, max_iterations=15 )"
   ]
  },
  {
   "cell_type": "code",
   "execution_count": null,
   "metadata": {},
   "outputs": [],
   "source": [
    "alpha2 = ista(image*mask, mask, Sk1, beta=beta_star2, epsilon=epsilon, max_iterations=15 )"
   ]
  },
  {
   "cell_type": "code",
   "execution_count": null,
   "metadata": {},
   "outputs": [],
   "source": [
    "alpha3 = ista(image*mask, mask, Sk1, beta=beta_star3, epsilon=epsilon, max_iterations=15 )"
   ]
  },
  {
   "cell_type": "markdown",
   "metadata": {},
   "source": [
    "+ Para S=1, n_thetas=5 hay que manipular el beta_set pata obtener el maximo de J en computePareto.\n",
    "+ Aun así, para estos parametros, los betas optimos (beta_star) obtenidos, hacen que ISTA converja"
   ]
  },
  {
   "cell_type": "markdown",
   "metadata": {},
   "source": [
    "## Pareto e ISTA para S=2 n_thetas=5"
   ]
  },
  {
   "cell_type": "code",
   "execution_count": null,
   "metadata": {},
   "outputs": [],
   "source": [
    "S, n_thetas = 2, 5\n",
    "build_dict = dict(Sk_type = 'boostlet', N = N, S = S, n_thetas = n_thetas)\n",
    "Sk2 = load_sk(folder='./', file='dummy', build_dict=build_dict)\n",
    "\n",
    "beta_set = np.logspace(-2.5, -1, 50)\n",
    "beta_star, Jcurve = computePareto(image*mask, mask, Sk2, beta_set)\n",
    "print(f\"Dict S={S}, n_thetas={n_thetas}\")\n",
    "print(f\"beta_star = {beta_star}\")"
   ]
  },
  {
   "cell_type": "code",
   "execution_count": null,
   "metadata": {},
   "outputs": [],
   "source": [
    "beta_set = np.logspace(-3, -0.1, 50)\n",
    "beta_star, Jcurve = computePareto(image*mask, mask, Sk2, beta_set)\n",
    "print(f\"Dict S={S}, n_thetas={n_thetas}\")\n",
    "print(f\"beta_star = {beta_star}\")"
   ]
  },
  {
   "cell_type": "code",
   "execution_count": null,
   "metadata": {},
   "outputs": [],
   "source": [
    "# ----------------------------------------------------\n",
    "# ISTA recovery\n",
    "# ----------------------------------------------------\n",
    "epsilon = 9.4e-6\n",
    "alpha = ista(image*mask, mask, Sk2, beta=beta_star, epsilon=epsilon, max_iterations=15 )"
   ]
  },
  {
   "cell_type": "markdown",
   "metadata": {},
   "source": [
    "## Pareto e ISTA para S=1, n_thetas = 20"
   ]
  },
  {
   "cell_type": "code",
   "execution_count": null,
   "metadata": {},
   "outputs": [],
   "source": [
    "S, n_thetas = 1, 20\n",
    "build_dict = dict(Sk_type = 'boostlet', N = N, S = S, n_thetas = n_thetas)\n",
    "Sk1_20 = load_sk(folder='./', file='dummy', build_dict=build_dict)\n",
    "\n",
    "beta_set = np.logspace(-5, -0.1, 50)\n",
    "beta_star, Jcurve = computePareto(image*mask, mask, Sk1_20, beta_set)\n",
    "print(f\"Dict S={S}, n_thetas={n_thetas}\")\n",
    "print(f\"beta_star = {beta_star}\")\n",
    "\n",
    "# ----------------------------------------------------\n",
    "# ISTA recovery\n",
    "# ----------------------------------------------------\n",
    "epsilon = 9.4e-6\n",
    "alpha = ista(image*mask, mask, Sk1_20, beta=beta_star, epsilon=epsilon, max_iterations=15 )"
   ]
  },
  {
   "cell_type": "markdown",
   "metadata": {},
   "source": [
    "+ Para S=1, n_thetas=20 ISTA no converge tras calcular Pareto un beta_Star = 5e-5"
   ]
  },
  {
   "cell_type": "code",
   "execution_count": null,
   "metadata": {},
   "outputs": [],
   "source": [
    "S, n_thetas = 3, 7\n",
    "build_dict = dict(Sk_type = 'boostlet', N = N, S = S, n_thetas = n_thetas)\n",
    "Sk1_20 = load_sk(folder='./', file='dummy', build_dict=build_dict)\n",
    "\n",
    "# Sk = np.delete(Sk1_20, [30, 31, 29, 32], axis=2)\n",
    "# Sk = np.delete(Sk1_20, [28, 29, 30, 31, 32, 33, 34], axis=2)\n",
    "# Sk = Sk1_20[:,:, [0, 5,6,7,8,9,10,11,12,13,14]]\n",
    "# Sk = Sk1_20\n",
    "# Sk = np.delete(Sk1_20, [24, 25, 26], axis=2) # Guay\n",
    "# Sk = np.delete(Sk1_20, [24, 25, 26, 31, 32, 33], axis=2) # Guay\n",
    "Sk = np.delete(Sk1_20, [24, 25, 26, 31, 32, 33, 38, 39, 40], axis=2) # Guay\n",
    "\n",
    "\n",
    "\n",
    "\n",
    "epsilon = 9.4e-6\n",
    "# alpha = ista(image*mask, mask, Sk, beta=0.05, epsilon=epsilon, max_iterations=50 ) # No converge\n",
    "# alpha = ista(image*mask, mask, Sk, beta=0.9, epsilon=epsilon, max_iterations=50 ) # converge\n",
    "# alpha = ista(image*mask, mask, Sk, beta=0.05, epsilon=epsilon, max_iterations=50 ) # NO converge\n",
    "# alpha = ista(image*mask, mask, Sk, beta=0.001, epsilon=epsilon, max_iterations=50 ) # NO converge\n",
    "alpha = ista(image*mask, mask, Sk, beta=0.1, epsilon=epsilon, max_iterations=50 ) # converge\n",
    "\n",
    "\n",
    "\n",
    "# recover inpainted image from sparse coefficients (Eq. 19)\n",
    "image_recov = iffst(alpha, Sk)\n",
    "final_image = imOps.recover_image(image_recov)\n",
    "\n",
    "images = [orig_image[:100,:], (orig_image*mask0)[:100,:], final_image[:100,:]]\n",
    "titles = ['Original Image', 'Masked Image', 'Final reconst image']\n",
    "\n",
    "fig, ax = plt.subplots(1, len(images), figsize=(18, 6))\n",
    "for i in range(len(images)):\n",
    "    ax[i].imshow(images[i])\n",
    "    ax[i].set_title(titles[i])\n",
    "    ax[i].axis('off')\n",
    "plt.tight_layout()\n",
    "plt.show()"
   ]
  },
  {
   "cell_type": "code",
   "execution_count": null,
   "metadata": {},
   "outputs": [],
   "source": [
    "\n",
    "images = [orig_image[:100,:], (orig_image*mask0)[:100,:], final_image[:100,:]]\n",
    "titles = ['Original Image', 'Masked Image', 'Final reconst image']\n",
    "\n",
    "fig, ax = plt.subplots(1, len(images), figsize=(18, 6))\n",
    "for i in range(len(images)):\n",
    "    ax[i].imshow(images[i])\n",
    "    ax[i].set_title(titles[i])\n",
    "    ax[i].axis('off')\n",
    "plt.tight_layout()\n",
    "plt.show()\n"
   ]
  },
  {
   "cell_type": "markdown",
   "metadata": {},
   "source": [
    "+ Con otros beta como $\\beta^* = 0.5$ o 1, parece que ISTA converge"
   ]
  },
  {
   "cell_type": "markdown",
   "metadata": {},
   "source": [
    "## Pareto e ISTA para S=2,3, n_thetas = 20"
   ]
  },
  {
   "cell_type": "code",
   "execution_count": null,
   "metadata": {},
   "outputs": [],
   "source": []
  }
 ],
 "metadata": {
  "kernelspec": {
   "display_name": "wavelets",
   "language": "python",
   "name": "python3"
  },
  "language_info": {
   "codemirror_mode": {
    "name": "ipython",
    "version": 3
   },
   "file_extension": ".py",
   "mimetype": "text/x-python",
   "name": "python",
   "nbconvert_exporter": "python",
   "pygments_lexer": "ipython3",
   "version": "3.12.3"
  }
 },
 "nbformat": 4,
 "nbformat_minor": 2
}
